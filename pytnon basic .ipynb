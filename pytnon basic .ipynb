{
 "cells": [
  {
   "cell_type": "code",
   "execution_count": 10,
   "id": "ebff0a48-7fa6-4bfa-be23-952771567128",
   "metadata": {},
   "outputs": [
    {
     "name": "stdout",
     "output_type": "stream",
     "text": [
      "x =  20\n",
      "y =  10\n"
     ]
    }
   ],
   "source": [
    "#1. Declare two variables, `x` and `y`, and assign them integer values. Swap the\n",
    "#values of these variables without using any temporary variable.\n",
    "\n",
    "x = 10\n",
    "y = 20\n",
    "\n",
    "x = x + y \n",
    "y = x - y\n",
    "x = x - y\n",
    "print(\"x = \"  ,x )\n",
    "print('y = ', y )"
   ]
  },
  {
   "cell_type": "code",
   "execution_count": 13,
   "id": "3d4c8f97-b5c8-4eec-bf94-843c7b56f9d5",
   "metadata": {},
   "outputs": [
    {
     "name": "stdin",
     "output_type": "stream",
     "text": [
      "enter the length of rectangle  4\n",
      "enter the width of rectangle 8\n"
     ]
    },
    {
     "name": "stdout",
     "output_type": "stream",
     "text": [
      "32\n"
     ]
    }
   ],
   "source": [
    "'''2. Create a program that calculates the area of a rectangle. Take the length and\n",
    "width as inputs from the user and store them in variables. Calculate and\n",
    "display the area.'''\n",
    "\n",
    "l = int (input('enter the length of rectangle '))\n",
    "w = int ( input ( 'enter the width of rectangle'))\n",
    "\n",
    "area_of_rectangle = l * w \n",
    "\n",
    "print( area_of_rectangle )\n",
    "\n"
   ]
  },
  {
   "cell_type": "code",
   "execution_count": 15,
   "id": "45d45a6c-9bdc-4c08-abef-8145b59dc5a4",
   "metadata": {},
   "outputs": [
    {
     "name": "stdin",
     "output_type": "stream",
     "text": [
      "enter the temperature in celsius  5\n"
     ]
    },
    {
     "name": "stdout",
     "output_type": "stream",
     "text": [
      "41.0\n"
     ]
    }
   ],
   "source": [
    "'''3. Write a Python program that converts temperatures from Celsius to\n",
    "Fahrenheit. Take the temperature in Celsius as input, store it in a variable,\n",
    "convert it to Fahrenheit, and display the result.'''\n",
    "\n",
    "\n",
    "tem_in_celsius = int ( input ('enter the temperature in celsius '))\n",
    "\n",
    "tem_in_fahrenheit =  (tem_in_celsius  * 9/5)+32\n",
    "\n",
    "print(tem_in_fahrenheit)"
   ]
  },
  {
   "cell_type": "code",
   "execution_count": 16,
   "id": "7d93649c-860a-4b47-803d-bf35cfb29a53",
   "metadata": {},
   "outputs": [
    {
     "name": "stdin",
     "output_type": "stream",
     "text": [
      "enter a string  nitin\n"
     ]
    },
    {
     "data": {
      "text/plain": [
       "5"
      ]
     },
     "execution_count": 16,
     "metadata": {},
     "output_type": "execute_result"
    }
   ],
   "source": [
    "'''1. Write a Python program that takes a string as input and prints the length of\n",
    "the string.'''\n",
    "\n",
    "\n",
    "a = input ( 'enter a string ')\n",
    "\n",
    "len(a)"
   ]
  },
  {
   "cell_type": "code",
   "execution_count": 23,
   "id": "605e99d1-7dc4-46ee-9221-4969e3d5dfde",
   "metadata": {},
   "outputs": [
    {
     "name": "stdin",
     "output_type": "stream",
     "text": [
      "enter a sectence  nitin\n"
     ]
    },
    {
     "name": "stdout",
     "output_type": "stream",
     "text": [
      "2\n"
     ]
    }
   ],
   "source": [
    "'''2. Create a program that takes a sentence from the user and counts the number\n",
    "of vowels (a, e, i, o, u) in the string.'''\n",
    "\n",
    "sectence = input ('enter a sectence ')\n",
    "\n",
    "sectence = sectence.lower()\n",
    "\n",
    "#caount no of vovle :-\n",
    "\n",
    "a_in_sectence = sectence.count('a')\n",
    "e_in_sectence = sectence.count('e')\n",
    "i_in_sectence = sectence.count('i')\n",
    "o_in_sectence = sectence.count('o')\n",
    "u_in_sectence = sectence.count('u')\n",
    "\n",
    "total_vovle_in_senctence = a_in_sectence + e_in_sectence +i_in_sectence+o_in_sectence+u_in_sectence\n",
    "\n",
    "print(total_vovle_in_senctence)\n"
   ]
  },
  {
   "cell_type": "code",
   "execution_count": 67,
   "id": "f3ebe446-6695-4897-a1f3-dc532b5b2508",
   "metadata": {},
   "outputs": [
    {
     "name": "stdout",
     "output_type": "stream",
     "text": [
      "rasfa si eman ym\n"
     ]
    }
   ],
   "source": [
    "'''3. Given a string, reverse the order of characters using string slicing and print\n",
    "the reversed string.'''\n",
    "\n",
    "string =  \"my name is afsar\"\n",
    "\n",
    "print(string[::-1])\n"
   ]
  },
  {
   "cell_type": "code",
   "execution_count": 66,
   "id": "0eccce87-9060-48a7-8b38-4f5aa19ea394",
   "metadata": {},
   "outputs": [
    {
     "name": "stdin",
     "output_type": "stream",
     "text": [
      "enter a string  niyin\n"
     ]
    },
    {
     "name": "stdout",
     "output_type": "stream",
     "text": [
      "niyin\n",
      "this  input string is palindrome \n"
     ]
    }
   ],
   "source": [
    "'''Write a program that takes a string as input and checks if it is a palindrome\n",
    "(reads the same forwards and backwards).'''\n",
    "\n",
    "\n",
    "\n",
    "input_string = input ('enter a string ')\n",
    "\n",
    "reverce_string = input_string[::-1]\n",
    "\n",
    "if input_string == reverce_string :\n",
    "    print ( 'this  input string is palindrome ')\n",
    "else:\n",
    "    print('this string is not palindrome')\n",
    "    \n",
    "    \n",
    "\n",
    "\n"
   ]
  },
  {
   "cell_type": "code",
   "execution_count": null,
   "id": "6855c933-08d6-418b-ad05-f62cf2448ec8",
   "metadata": {},
   "outputs": [],
   "source": [
    "'''5. Create a program that takes a string as input and removes all the spaces from\n",
    "it. Print the modified string without spaces.'''\n",
    "\n",
    "input_string = input ( 'enter a string ')\n",
    "modified_string  = input_string.replace(\" \",\"\")\n",
    "print(modified_string)"
   ]
  },
  {
   "cell_type": "code",
   "execution_count": 74,
   "id": "95176e15-c22e-4f77-9ee1-4f5f254d552b",
   "metadata": {},
   "outputs": [
    {
     "name": "stdin",
     "output_type": "stream",
     "text": [
      "Enter a string:  n i t i n\n"
     ]
    },
    {
     "name": "stdout",
     "output_type": "stream",
     "text": [
      "Modified string: nitin\n"
     ]
    }
   ],
   "source": [
    "input_string = input('Enter a string: ')\n",
    "modified_string = input_string.replace(\" \", \"\")\n",
    "print(\"Modified string:\", modified_string)\n"
   ]
  },
  {
   "cell_type": "code",
   "execution_count": null,
   "id": "8d7d1f03-8ad0-4a79-a220-64748a5a7459",
   "metadata": {},
   "outputs": [],
   "source": []
  }
 ],
 "metadata": {
  "kernelspec": {
   "display_name": "Python 3 (ipykernel)",
   "language": "python",
   "name": "python3"
  },
  "language_info": {
   "codemirror_mode": {
    "name": "ipython",
    "version": 3
   },
   "file_extension": ".py",
   "mimetype": "text/x-python",
   "name": "python",
   "nbconvert_exporter": "python",
   "pygments_lexer": "ipython3",
   "version": "3.10.8"
  }
 },
 "nbformat": 4,
 "nbformat_minor": 5
}
